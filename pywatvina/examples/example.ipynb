{
 "cells": [
  {
   "cell_type": "code",
   "execution_count": 1,
   "id": "c9942745-00db-485b-bb08-706aad0ed98d",
   "metadata": {},
   "outputs": [],
   "source": [
    "from watvina import watvina_python as pywatvina\n",
    "from watvina.rdkit2pdbqt import *"
   ]
  },
  {
   "cell_type": "code",
   "execution_count": 16,
   "id": "3de5374d-ce59-4269-ac16-2cd686dc7754",
   "metadata": {},
   "outputs": [],
   "source": [
    "wv = pywatvina.WATVina()\n",
    "wv.__init__(cpu=8, seed=0, verbosity=1)\n",
    "#详细使用说明\n",
    "#help(wv)"
   ]
  },
  {
   "cell_type": "code",
   "execution_count": 3,
   "id": "1827a6c5-9820-4a15-b280-6610185c5228",
   "metadata": {},
   "outputs": [],
   "source": [
    "#从pdb文件读取受体\n",
    "receptor_mol=Chem.MolFromPDBFile(\"rec.pdb\", removeHs=False)\n",
    "receptor_lines=MolToPDBQTBlock(receptor_mol, False, False, True)\n",
    "wv.set_receptor_from_string(receptor_lines)"
   ]
  },
  {
   "cell_type": "code",
   "execution_count": 4,
   "id": "4ac3d591-d3ac-4f24-863a-85950807910f",
   "metadata": {},
   "outputs": [],
   "source": [
    "# Step 2.x:  读取水，或者药效团设置\n",
    "#wv.set_pharmacophore_from_file(\"pharm.txt\")\n",
    "#wv.set_water(\"water.pdb\",implicitsol=False)"
   ]
  },
  {
   "cell_type": "code",
   "execution_count": 5,
   "id": "ec6582c1-65df-4c8f-a00f-8df867dd5ba6",
   "metadata": {},
   "outputs": [],
   "source": [
    "# Step 3: 设置打分权重和格点\n",
    "wv.set_watvina_weights(weight_vdw=0.184,weight_hb=1.00,weight_elep=0.25)\n",
    "wv.set_extra_constraints(weight_desol=-0.500, wclash_dist=0.500, weight_torsion=0.300)\n",
    "wv.set_grid_dims(center_x=-0.50, center_y=30,center_z=16.4, size_x=19,size_y=23,size_z=23, granularity=0.375)"
   ]
  },
  {
   "cell_type": "code",
   "execution_count": 6,
   "id": "b88a19ab-6834-4c4a-9668-9b07b7ddc7ec",
   "metadata": {},
   "outputs": [],
   "source": [
    "#Step 4: 根据打分方程预先计算不同距离的打分, 这个在global_search，score, optimize, relax时候都需要\n",
    "#不带参数则只储存配体原子类型的格点能量\n",
    "#wv.set_precalculate_sf()\n",
    "#watvina的格点能量计算需要点时间, 所以我们如果针对不同的配体最好预先计算所有原子类型\n",
    "wv.set_precalculate_sf(prec_full_atomtypes=True)"
   ]
  },
  {
   "cell_type": "code",
   "execution_count": 7,
   "id": "5b511745-5e3e-4dd6-b686-f4bca70112fb",
   "metadata": {},
   "outputs": [],
   "source": [
    "#Step 5 : 从sdf文件中读取配体\n",
    "ligand_mol=Chem.MolFromMolFile(\"i.sdf\",removeHs=False)\n",
    "ligand_lines=MolToPDBQTBlock(ligand_mol, True, False, True)\n",
    "wv.set_ligand_from_string(ligand_lines)\n",
    "wv.pose_atomids=[x-1 for x in wv.pose_atomids]\n",
    "#wv.pose_atomids"
   ]
  },
  {
   "cell_type": "code",
   "execution_count": 8,
   "id": "abea9736-2150-46a1-b579-135d5dcf5502",
   "metadata": {},
   "outputs": [],
   "source": [
    "#wv.score()"
   ]
  },
  {
   "cell_type": "code",
   "execution_count": 9,
   "id": "baece29a-9b26-46c8-ade0-faebd374d8e7",
   "metadata": {},
   "outputs": [
    {
     "name": "stdout",
     "output_type": "stream",
     "text": [
      "Computing WATVina grid ... done.\n"
     ]
    }
   ],
   "source": [
    "#计算所有原子类型的格点\n",
    "#后面所有的配体都可以用这一个格点能量，不需要重复计算\n",
    "%timeit\n",
    "wv.compute_watvina_maps(full_atomtypes=False)\n",
    "#wv.score()\n",
    "#wv.optimize()\n",
    "#wv.grid_score()"
   ]
  },
  {
   "cell_type": "code",
   "execution_count": 10,
   "id": "1cfab646-56ab-47b0-bf23-38c1e478f798",
   "metadata": {},
   "outputs": [
    {
     "name": "stdout",
     "output_type": "stream",
     "text": [
      "CPU times: user 2 μs, sys: 0 ns, total: 2 μs\n",
      "Wall time: 4.77 μs\n",
      "Starting global_search\n",
      "CPUs: 12\n",
      "Using random seed: -2006472994\n",
      "Performing search ... Initializing parallel_mc\n",
      "Checking grid map...\n",
      "Starting parallel search...\n",
      "[=>                                                ] 2%"
     ]
    },
    {
     "name": "stderr",
     "output_type": "stream",
     "text": [
      "WARNING: At low exhaustiveness, it may be impossible to utilize all CPUs.\n"
     ]
    },
    {
     "name": "stdout",
     "output_type": "stream",
     "text": [
      "[==================================================] 100%done.\n",
      "Refining results ... done.\n"
     ]
    }
   ],
   "source": [
    "%time\n",
    "wv.global_search(exhaustiveness=8,n_poses=5, min_rmsd=1.5,energy_range=3,population_size=8,\n",
    "                 ga_searching=4,refinement=True, tramplitude=1.00)"
   ]
  },
  {
   "cell_type": "code",
   "execution_count": 11,
   "id": "6942622b-4efc-474c-b3ee-54fe862b5680",
   "metadata": {},
   "outputs": [
    {
     "name": "stdout",
     "output_type": "stream",
     "text": [
      "Num of Docked Confs:5\n",
      "Num of Atoms: 58\n",
      "Num of Atoms 2: 58\n"
     ]
    }
   ],
   "source": [
    "print(f'Num of Docked Confs:{len(wv.poses_score)}')\n",
    "print(f'Num of Atoms: {ligand_mol.GetNumAtoms()}')\n",
    "print(f'Num of Atoms 2: {len(wv.poses_coords[0])}')\n",
    "#wv.poses_coords[0]\n",
    "#wv.pose_atomids"
   ]
  },
  {
   "cell_type": "code",
   "execution_count": 17,
   "id": "60b9f593-8718-40dc-b475-6a699e991214",
   "metadata": {},
   "outputs": [
    {
     "data": {
      "text/plain": [
       "[]"
      ]
     },
     "execution_count": 17,
     "metadata": {},
     "output_type": "execute_result"
    }
   ],
   "source": [
    "wv.poses_score\n",
    "#wv.score()"
   ]
  },
  {
   "cell_type": "code",
   "execution_count": 14,
   "id": "e568a0c7-5e50-44be-a132-459438deeddd",
   "metadata": {},
   "outputs": [
    {
     "name": "stdout",
     "output_type": "stream",
     "text": [
      "Performing local search ... done.\n",
      "Total energy: -12.748\n",
      "Pharmacophore Awards: 0.000\n",
      "template ph4 match: 0.000\n",
      "Torsion energy: 0.000\n",
      "Desolvation_energy: 0.000\n",
      "Intra energy: -1.336\n",
      "Affinity: -9.443 (kcal/mol)\n",
      "done.\n"
     ]
    },
    {
     "data": {
      "text/plain": [
       "-9.442918840017706"
      ]
     },
     "execution_count": 14,
     "metadata": {},
     "output_type": "execute_result"
    }
   ],
   "source": [
    "wv.optimize()"
   ]
  }
 ],
 "metadata": {
  "kernelspec": {
   "display_name": "Python 3 (ipykernel)",
   "language": "python",
   "name": "python3"
  },
  "language_info": {
   "codemirror_mode": {
    "name": "ipython",
    "version": 3
   },
   "file_extension": ".py",
   "mimetype": "text/x-python",
   "name": "python",
   "nbconvert_exporter": "python",
   "pygments_lexer": "ipython3",
   "version": "3.12.5"
  }
 },
 "nbformat": 4,
 "nbformat_minor": 5
}
