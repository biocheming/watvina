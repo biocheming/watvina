{
 "cells": [
  {
   "cell_type": "code",
   "execution_count": 18,
   "id": "c9942745-00db-485b-bb08-706aad0ed98d",
   "metadata": {},
   "outputs": [],
   "source": [
    "import watvina.watvina_python as pywatvina\n",
    "from watvina.rdkit2pdbqt import *"
   ]
  },
  {
   "cell_type": "code",
   "execution_count": 19,
   "id": "08551049-5353-4723-b9b7-c87906930c63",
   "metadata": {},
   "outputs": [],
   "source": [
    "wv = pywatvina.WATVina(cpu=8,seed=0,verbosity=1)\n",
    "#详细使用说明\n",
    "#help(wv)"
   ]
  },
  {
   "cell_type": "code",
   "execution_count": 20,
   "id": "1827a6c5-9820-4a15-b280-6610185c5228",
   "metadata": {},
   "outputs": [],
   "source": [
    "#Step 1: 从pdb文件读取受体\n",
    "receptor_mol=Chem.MolFromPDBFile(\"rec.pdb\", removeHs=False)\n",
    "receptor_lines=MolToPDBQTBlock(receptor_mol, False, False, True)\n",
    "wv.set_receptor_from_string(receptor_lines)"
   ]
  },
  {
   "cell_type": "code",
   "execution_count": 21,
   "id": "5b511745-5e3e-4dd6-b686-f4bca70112fb",
   "metadata": {},
   "outputs": [],
   "source": [
    "#Step 2: 从sdf文件中读取配体\n",
    "ligand_mol=Chem.MolFromMolFile(\"i.sdf\",removeHs=False)\n",
    "ligand_lines=MolToPDBQTBlock(ligand_mol, True, False, True)\n",
    "wv.set_ligand_from_string(ligand_lines)\n",
    "wv.pose_atomids=[x-1 for x in wv.pose_atomids]\n",
    "#wv.pose_atomids"
   ]
  },
  {
   "cell_type": "code",
   "execution_count": 22,
   "id": "4ac3d591-d3ac-4f24-863a-85950807910f",
   "metadata": {},
   "outputs": [],
   "source": [
    "# Step x:  读取水，或者药效团设置\n",
    "#wv.set_pharmacophore_from_file(\"pharm.txt\")\n",
    "#wv.set_water(\"water.pdb\",implicitsol=False)"
   ]
  },
  {
   "cell_type": "code",
   "execution_count": 23,
   "id": "ec6582c1-65df-4c8f-a00f-8df867dd5ba6",
   "metadata": {},
   "outputs": [],
   "source": [
    "# Step x: 设置打分权重和格点\n",
    "#wv.set_watvina_weights(weight_vdw=0.184,weight_hb=1.00,weight_elep=0.25)\n",
    "#wv.set_extra_constraints(weight_desol=-0.500, wclash_dist=0.500, weight_torsion=0.300)\n",
    "wv.set_grid_dims(center_x=-0.50, center_y=30,center_z=16.4, size_x=19,size_y=23,size_z=23, granularity=0.375)"
   ]
  },
  {
   "cell_type": "code",
   "execution_count": 24,
   "id": "b88a19ab-6834-4c4a-9668-9b07b7ddc7ec",
   "metadata": {},
   "outputs": [],
   "source": [
    "#Step 3: 根据打分方程预先计算不同距离的打分, 这个在global_search，score, optimize, relax时候都需要\n",
    "#不带参数则只储存配体原子类型的格点能量\n",
    "#wv.set_precalculate_sf()\n",
    "#watvina的格点能量计算需要点时间, 所以我们如果针对不同的配体最好预先计算所有原子类型\n",
    "wv.set_precalculate_sf()"
   ]
  },
  {
   "cell_type": "code",
   "execution_count": 25,
   "id": "abea9736-2150-46a1-b579-135d5dcf5502",
   "metadata": {},
   "outputs": [
    {
     "data": {
      "text/plain": [
       "-9.270598343046307"
      ]
     },
     "execution_count": 25,
     "metadata": {},
     "output_type": "execute_result"
    }
   ],
   "source": [
    "#score only\n",
    "wv.score()"
   ]
  },
  {
   "cell_type": "code",
   "execution_count": 26,
   "id": "df2cb28c-f1df-4b82-b789-1d2a682e3ccc",
   "metadata": {},
   "outputs": [
    {
     "name": "stdout",
     "output_type": "stream",
     "text": [
      "Total energy (e_total)             : -12.544\n",
      "Intramolecular Contribution         : 0.269\n",
      "Desolvation (energy e_desolv)       :0.000\n",
      "External_torsion                    :0.000\n",
      "Affinity                            : -9.271 (kcal/mol)\n",
      "\n",
      "Intermolecular contributions :\n",
      "    VDW         : -47.413 : 0.184 = -8.724\n",
      "    HBond       : -1.870 : 1.000 = -1.870\n",
      "    Electrop    : -2.968 : 0.250 = -0.742\n",
      "REMARK -47.413 -1.870 -2.968\n",
      "e2[(inter+intra+desol+torsion)/tor]:-9.379\n",
      "Performing local search ... done.\n",
      "Total energy: -13.106\n",
      "Pharmacophore Awards: 0.000\n",
      "template ph4 match: 0.000\n",
      "Torsion energy: 0.017\n",
      "Desolvation_energy: 0.000\n",
      "Intra energy: -1.382\n",
      "Affinity: -9.725 (kcal/mol)\n",
      "done.\n"
     ]
    },
    {
     "data": {
      "text/plain": [
       "-9.724713132928837"
      ]
     },
     "execution_count": 26,
     "metadata": {},
     "output_type": "execute_result"
    }
   ],
   "source": [
    "#local_only\n",
    "wv.optimize()"
   ]
  },
  {
   "cell_type": "code",
   "execution_count": 27,
   "id": "baece29a-9b26-46c8-ade0-faebd374d8e7",
   "metadata": {},
   "outputs": [
    {
     "name": "stdout",
     "output_type": "stream",
     "text": [
      "Computing WATVina grid ... done.\n"
     ]
    },
    {
     "data": {
      "text/plain": [
       "-11.288927151015656"
      ]
     },
     "execution_count": 27,
     "metadata": {},
     "output_type": "execute_result"
    }
   ],
   "source": [
    "#Step 4: 计算原子类型的格点\n",
    "#后面所有的配体都可以用这一个格点能量，不需要重复计算\n",
    "wv.compute_watvina_maps(full_atomtypes=False)\n",
    "wv.grid_score()"
   ]
  },
  {
   "cell_type": "code",
   "execution_count": 28,
   "id": "adc0dca2-660b-4048-838a-09220717114c",
   "metadata": {},
   "outputs": [
    {
     "name": "stdout",
     "output_type": "stream",
     "text": [
      "Starting global_search\n",
      "Using random seed: 474864159\n",
      "Performing search ... Checking grid map...\n",
      "Starting parallel search...\n",
      "[==================================================] 100%done.\n",
      "Refining results ... done.\n",
      "+-----------+-------------+------------------------------------------------+--------+\n",
      "| summary   |   RMSD_TO   |               Score contribution               | E_GRID |\n",
      "+---+-------+------+------+-------+-------+-------+-------+-------+--------+--------+\n",
      "|No.| score | best | init |  VDW  | HBond | Elect | Desol | Intra | Torsion|  TMPH4 |\n",
      "+---+-------+------+------+-------+-------+-------+-------+-------+--------+--------+\n",
      "!  1  -9.66   0.00   0.21  -48.80   -1.99   -3.33    0.00    0.25    0.09    0.00\n",
      "!  2  -8.78   1.41   1.38  -46.22   -1.89   -3.01    0.00    0.34    0.41    0.00\n",
      "!  3  -7.52   3.10   3.07  -44.49   -0.65   -3.27    0.00    0.27    0.30    0.00\n",
      "!  4  -7.40   3.24   3.23  -43.19   -0.64   -2.74    0.00    0.18    0.25    0.00\n",
      "!  5  -7.09   2.61   2.56  -37.24   -1.25   -3.73    0.00    0.09    0.61    0.00\n"
     ]
    }
   ],
   "source": [
    "wv.global_search(exhaustiveness=8,n_poses=5, min_rmsd=1.5,energy_range=3,population_size=8,\n",
    "                 ga_searching=4,refinement=True, tramplitude=1.00)"
   ]
  },
  {
   "cell_type": "code",
   "execution_count": 29,
   "id": "6942622b-4efc-474c-b3ee-54fe862b5680",
   "metadata": {},
   "outputs": [
    {
     "name": "stdout",
     "output_type": "stream",
     "text": [
      "Num of Docked Confs:5\n",
      "Num of Atoms: 58\n",
      "Num of Atoms 2: 58\n"
     ]
    }
   ],
   "source": [
    "print(f'Num of Docked Confs:{len(wv.poses_score)}')\n",
    "print(f'Num of Atoms: {ligand_mol.GetNumAtoms()}')\n",
    "print(f'Num of Atoms 2: {len(wv.poses_coords[0])}')\n",
    "#wv.poses_coords[0]\n",
    "#wv.pose_atomids"
   ]
  },
  {
   "cell_type": "code",
   "execution_count": 30,
   "id": "60b9f593-8718-40dc-b475-6a699e991214",
   "metadata": {},
   "outputs": [
    {
     "data": {
      "text/plain": [
       "[-9.659212497991078,\n",
       " -8.780574187034054,\n",
       " -7.5234509124516,\n",
       " -7.4021631127568766,\n",
       " -7.091518781263163]"
      ]
     },
     "execution_count": 30,
     "metadata": {},
     "output_type": "execute_result"
    }
   ],
   "source": [
    "wv.poses_score\n",
    "#wv.score()"
   ]
  }
 ],
 "metadata": {
  "kernelspec": {
   "display_name": "Python 3 (ipykernel)",
   "language": "python",
   "name": "python3"
  },
  "language_info": {
   "codemirror_mode": {
    "name": "ipython",
    "version": 3
   },
   "file_extension": ".py",
   "mimetype": "text/x-python",
   "name": "python",
   "nbconvert_exporter": "python",
   "pygments_lexer": "ipython3",
   "version": "3.12.5"
  }
 },
 "nbformat": 4,
 "nbformat_minor": 5
}
